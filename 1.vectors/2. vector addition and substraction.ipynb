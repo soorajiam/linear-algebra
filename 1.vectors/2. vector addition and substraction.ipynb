{
 "cells": [
  {
   "cell_type": "code",
   "execution_count": 1,
   "id": "6f4bf40e",
   "metadata": {},
   "outputs": [],
   "source": [
    "import numpy as np\n",
    "import matplotlib.pyplot as plt\n",
    "from mpl_toolkits.mplot3d import Axes3D"
   ]
  },
  {
   "cell_type": "markdown",
   "id": "2f0cf7cd",
   "metadata": {},
   "source": [
    "## Addition"
   ]
  },
  {
   "cell_type": "code",
   "execution_count": 14,
   "id": "26cc08c5",
   "metadata": {},
   "outputs": [
    {
     "data": {
      "image/png": "[encoded data removed]",
      "text/plain": [
       "<Figure size 432x288 with 1 Axes>"
      ]
     },
     "metadata": {
      "needs_background": "light"
     },
     "output_type": "display_data"
    }
   ],
   "source": [
    "v1 = np.array([3, -1])\n",
    "v2 = np.array([2, 4])\n",
    "v3 = v1 + v2\n",
    "\n",
    "#Plotting\n",
    "plt.plot([0, v1[0]], [0, v1[1]], 'b', label='v1')\n",
    "plt.plot([v1[0], v2[0]+v1[0]], [v1[1], v2[1]+v1[1]], 'r', label='v2')\n",
    "plt.plot([0, v3[0]], [0, v3[1]], 'k', label='v1+v2')\n",
    "plt.legend()\n",
    "plt.axis('square')\n",
    "plt.axis((-6,6,-6,6))\n",
    "plt.grid()\n",
    "plt.show()"
   ]
  },
  {
   "cell_type": "code",
   "execution_count": null,
   "id": "7c5e4d4a",
   "metadata": {},
   "outputs": [],
   "source": []
  }
 ],
 "metadata": {
  "kernelspec": {
   "display_name": "Python 3",
   "language": "python",
   "name": "python3"
  },
  "language_info": {
   "codemirror_mode": {
    "name": "ipython",
    "version": 3
   },
   "file_extension": ".py",
   "mimetype": "text/x-python",
   "name": "python",
   "nbconvert_exporter": "python",
   "pygments_lexer": "ipython3",
   "version": "3.8.8"
  }
 },
 "nbformat": 4,
 "nbformat_minor": 5
}
